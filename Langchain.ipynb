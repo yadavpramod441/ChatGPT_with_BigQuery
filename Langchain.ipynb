{
  "nbformat": 4,
  "nbformat_minor": 0,
  "metadata": {
    "colab": {
      "provenance": []
    },
    "kernelspec": {
      "name": "python3",
      "display_name": "Python 3"
    },
    "language_info": {
      "name": "python"
    }
  },
  "cells": [
    {
      "cell_type": "code",
      "execution_count": 2,
      "metadata": {
        "id": "TkpZJ44fAUON"
      },
      "outputs": [],
      "source": [
        "import langchain"
      ]
    },
    {
      "cell_type": "code",
      "source": [
        "pip  install langchain openai chromadb tiktoken tabulate sqlalchemy sqlalchemy-bigquery google-cloud-bigquery"
      ],
      "metadata": {
        "id": "r86ClK8nV1Y8"
      },
      "execution_count": null,
      "outputs": []
    },
    {
      "cell_type": "code",
      "source": [
        "from google.cloud import bigquery\n",
        "from sqlalchemy  import *\n",
        "from sqlalchemy.engine import create_engine\n",
        "from sqlalchemy.schema import *\n",
        "import os\n",
        "from langchain.agents  import create_sql_agent\n",
        "from langchain.agents.agent_toolkits import SQLDatabaseToolkit\n",
        "from langchain.sql_database import SQLDatabase\n",
        "from langchain.llms.openai import OpenAI\n",
        "from langchain.agents import AgentExecutor\n",
        "service_account_file = \"/content/avian-light-210704-1eadc5b5acc1.json\"\n", 
        "\n",
        "# Change to where your service account key file is located\n",
        "project  = \"avian-light-210704\"\n",
        "dataset = \"Pramod_Attribution\"\n",
        "table = \"ROR\"\n",
        "sqlalchemy_url  = f'bigquery://{project}/{dataset}?credentials_path={service_account_file}'\n",
        "\n",
        "os.environ[\"OPENAI_API_KEY\"]=\"sk-xxxxxxxxx\"\n",
        "\n",
        "db = SQLDatabase.from_uri(sqlalchemy_url)\n",
        "#llm =OpenAI(temperature=0,model=\"text-embedding-ada-002\t\")\n",
        "llm =OpenAI(temperature=0,model=\"text-davinci-003\")\n",
        "toolkit =SQLDatabaseToolkit(db=db,llm=llm)\n",
        "agent_executor =create_sql_agent(llm=llm,toolkit=toolkit,verbose=True,top_k=1000)\n",
        "agent_executor.run(\"Group the institution which are similar?\")"
      ],
      "metadata": {
        "colab": {
          "base_uri": "https://localhost:8080/",
          "height": 1000
        },
        "id": "eIN5fWzDWdVV",
        "outputId": "78ec3c56-1336-4661-c8ed-00a803c67edc"
      },
      "execution_count": 45,
      "outputs": [
        {
          "output_type": "stream",
          "name": "stdout",
          "text": [
            "\n",
            "\n",
            "\u001b[1m> Entering new  chain...\u001b[0m\n",
            "\u001b[32;1m\u001b[1;3mAction: list_tables_sql_db\n",
            "Action Input: \"\"\u001b[0m\n",
            "Observation: \u001b[38;5;200m\u001b[1;3mROR, ChurnData\u001b[0m\n",
            "Thought:\u001b[32;1m\u001b[1;3m I should query the schema of the ROR and ChurnData tables to see what columns I can use to group the institutions.\n",
            "Action: schema_sql_db\n",
            "Action Input: \"ROR, ChurnData\"\u001b[0m\n",
            "Observation: \u001b[33;1m\u001b[1;3m\n",
            "CREATE TABLE `ChurnData` (\n",
            "\t`string_field_0` STRING, \n",
            "\t`string_field_1` STRING, \n",
            "\t`string_field_2` STRING, \n",
            "\t`string_field_3` STRING, \n",
            "\t`string_field_4` STRING, \n",
            "\t`string_field_5` STRING, \n",
            "\t`string_field_6` STRING, \n",
            "\t`string_field_7` STRING, \n",
            "\t`string_field_8` STRING, \n",
            "\t`string_field_9` STRING, \n",
            "\t`string_field_10` STRING, \n",
            "\t`string_field_11` STRING, \n",
            "\t`string_field_12` STRING, \n",
            "\t`string_field_13` STRING, \n",
            "\t`string_field_14` STRING, \n",
            "\t`string_field_15` STRING, \n",
            "\t`string_field_16` STRING, \n",
            "\t`string_field_17` STRING, \n",
            "\t`string_field_18` STRING, \n",
            "\t`string_field_19` STRING, \n",
            "\t`string_field_20` STRING\n",
            ")\n",
            "\n",
            "/*\n",
            "3 rows from ChurnData table:\n",
            "string_field_0\tstring_field_1\tstring_field_2\tstring_field_3\tstring_field_4\tstring_field_5\tstring_field_6\tstring_field_7\tstring_field_8\tstring_field_9\tstring_field_10\tstring_field_11\tstring_field_12\tstring_field_13\tstring_field_14\tstring_field_15\tstring_field_16\tstring_field_17\tstring_field_18\tstring_field_19\tstring_field_20\n",
            "customerID\tgender\tSeniorCitizen\tPartner\tDependents\ttenure\tPhoneService\tMultipleLines\tInternetService\tOnlineSecurity\tOnlineBackup\tDeviceProtection\tTechSupport\tStreamingTV\tStreamingMovies\tContract\tPaperlessBilling\tPaymentMethod\tMonthlyCharges\tTotalCharges\tChurn\n",
            "7590-VHVEG\tFemale\t0\tYes\tNo\t1\tNo\tNo phone service\tDSL\tNo\tYes\tNo\tNo\tNo\tNo\tMonth-to-month\tYes\tElectronic check\t29.85\t29.85\tNo\n",
            "5575-GNVDE\tMale\t0\tNo\tNo\t34\tYes\tNo\tDSL\tYes\tNo\tYes\tNo\tNo\tNo\tOne year\tNo\tMailed check\t56.95\t1889.5\tNo\n",
            "*/\n",
            "\n",
            "\n",
            "CREATE TABLE `ROR` (\n",
            "\t`id` STRING, \n",
            "\t`name` STRING, \n",
            "\t`types` STRING, \n",
            "\t`status` STRING, \n",
            "\t`links` STRING, \n",
            "\t`wikipedia_url` STRING, \n",
            "\t`established` STRING, \n",
            "\t`lat` STRING, \n",
            "\t`long` STRING, \n",
            "\t`City` STRING, \n",
            "\t`CityID` STRING, \n",
            "\t`Country_Code` STRING, \n",
            "\t`Country_Name` STRING\n",
            ")\n",
            "\n",
            "/*\n",
            "3 rows from ROR table:\n",
            "id\tname\ttypes\tstatus\tlinks\twikipedia_url\testablished\tlat\tlong\tCity\tCityID\tCountry_Code\tCountry_Name\n",
            "id\tname\ttypes\tstatus\tlinks\twikipedia_url\testablished\tlat\tlong\tCity\tCityID\tCountry Code\tCountry Name\n",
            "https://ror.org/019wvm592\tAustralian National University\tEducation\tactive\thttp://www.anu.edu.au/\thttp://en.wikipedia.org/wiki/Australian_National_University\t1946\t-35.2778\t149.1205\tCanberra\t2172517\tAU\tAustralia\n",
            "https://ror.org/02bfwt286\tMonash University\tEducation\tactive\thttp://www.monash.edu/\thttp://en.wikipedia.org/wiki/Monash_University\t1958\t-37.9083\t145.138\tMelbourne\t2158177\tAU\tAustralia\n",
            "*/\u001b[0m\n",
            "Thought:\u001b[32;1m\u001b[1;3m I can use the 'types' column from the ROR table to group the institutions.\n",
            "Action: query_sql_db\n",
            "Action Input: SELECT types, COUNT(*) FROM ROR GROUP BY types LIMIT 1000\u001b[0m\n",
            "Observation: \u001b[36;1m\u001b[1;3m[('types', 1), ('Education', 20603), ('Nonprofit', 14012), ('Facility', 9748), ('Company', 30123), ('Government', 6374), ('Healthcare', 13214), ('Other', 8333), ('Archive', 2946), ('Education; Company', 1)]\u001b[0m\n",
            "Thought:\u001b[32;1m\u001b[1;3m I now know the final answer\n",
            "Final Answer: The institutions can be grouped by type, with the most common types being Education, Nonprofit, Facility, Company, Government, Healthcare, Other, and Archive.\u001b[0m\n",
            "\n",
            "\u001b[1m> Finished chain.\u001b[0m\n"
          ]
        },
        {
          "output_type": "execute_result",
          "data": {
            "text/plain": [
              "'The institutions can be grouped by type, with the most common types being Education, Nonprofit, Facility, Company, Government, Healthcare, Other, and Archive.'"
            ],
            "application/vnd.google.colaboratory.intrinsic+json": {
              "type": "string"
            }
          },
          "metadata": {},
          "execution_count": 45
        }
      ]
    },
    {
      "cell_type": "code",
      "source": [
        "agent_executor.run(\"How many institutions are there in Australia which are not active and established after 2010?\")"
      ],
      "metadata": {
        "colab": {
          "base_uri": "https://localhost:8080/",
          "height": 767
        },
        "id": "bHs-juposgo1",
        "outputId": "7c0820b8-7a09-42a0-804f-55784c8cde53"
      },
      "execution_count": 36,
      "outputs": [
        {
          "metadata": {
            "tags": null
          },
          "name": "stdout",
          "output_type": "stream",
          "text": [
            "\n",
            "\n",
            "\u001b[1m> Entering new  chain...\u001b[0m\n",
            "\u001b[32;1m\u001b[1;3mAction: list_tables_sql_db\n",
            "Action Input: \"\"\u001b[0m\n",
            "Observation: \u001b[38;5;200m\u001b[1;3mROR, ChurnData\u001b[0m\n",
            "Thought:\u001b[32;1m\u001b[1;3m I should query the schema of the ROR table to see what columns I can use.\n",
            "Action: schema_sql_db\n",
            "Action Input: \"ROR\"\u001b[0m\n",
            "Observation: \u001b[33;1m\u001b[1;3m\n",
            "CREATE TABLE `ROR` (\n",
            "\t`id` STRING, \n",
            "\t`name` STRING, \n",
            "\t`types` STRING, \n",
            "\t`status` STRING, \n",
            "\t`links` STRING, \n",
            "\t`wikipedia_url` STRING, \n",
            "\t`established` STRING, \n",
            "\t`lat` STRING, \n",
            "\t`long` STRING, \n",
            "\t`City` STRING, \n",
            "\t`CityID` STRING, \n",
            "\t`Country_Code` STRING, \n",
            "\t`Country_Name` STRING\n",
            ")\n",
            "\n",
            "/*\n",
            "3 rows from ROR table:\n",
            "id\tname\ttypes\tstatus\tlinks\twikipedia_url\testablished\tlat\tlong\tCity\tCityID\tCountry_Code\tCountry_Name\n",
            "id\tname\ttypes\tstatus\tlinks\twikipedia_url\testablished\tlat\tlong\tCity\tCityID\tCountry Code\tCountry Name\n",
            "https://ror.org/019wvm592\tAustralian National University\tEducation\tactive\thttp://www.anu.edu.au/\thttp://en.wikipedia.org/wiki/Australian_National_University\t1946\t-35.2778\t149.1205\tCanberra\t2172517\tAU\tAustralia\n",
            "https://ror.org/02bfwt286\tMonash University\tEducation\tactive\thttp://www.monash.edu/\thttp://en.wikipedia.org/wiki/Monash_University\t1958\t-37.9083\t145.138\tMelbourne\t2158177\tAU\tAustralia\n",
            "*/\u001b[0m\n",
            "Thought:\u001b[32;1m\u001b[1;3m I should query the ROR table for institutions in Australia which are not active and established after 2010.\n",
            "Action: query_sql_db\n",
            "Action Input: SELECT name FROM ROR WHERE Country_Code = 'AU' AND status != 'active' AND established > '2010' LIMIT 1000\u001b[0m\n",
            "Observation: \u001b[36;1m\u001b[1;3m[('Department of Agriculture, Water and the Environment',), ('Department of Industry, Science, Energy and Resources',)]\u001b[0m\n",
            "Thought:\u001b[32;1m\u001b[1;3m I now know the final answer\n",
            "Final Answer: There are 2 institutions in Australia which are not active and established after 2010.\u001b[0m\n",
            "\n",
            "\u001b[1m> Finished chain.\u001b[0m\n"
          ]
        },
        {
          "data": {
            "application/vnd.google.colaboratory.intrinsic+json": {
              "type": "string"
            },
            "text/plain": [
              "'There are 2 institutions in Australia which are not active and established after 2010.'"
            ]
          },
          "execution_count": 36,
          "metadata": {},
          "output_type": "execute_result"
        }
      ]
    },
    {
      "cell_type": "code",
      "source": [
        "agent_executor.run(\"How many institutions are there in Australia which are not active and established after 2010 and what is the name ofinstitution?\")"
      ],
      "metadata": {
        "colab": {
          "base_uri": "https://localhost:8080/",
          "height": 784
        },
        "id": "yIs-0yf6tlZJ",
        "outputId": "ce6030c0-1ae5-4da5-e638-ef07bfebb960"
      },
      "execution_count": 38,
      "outputs": [
        {
          "output_type": "stream",
          "name": "stdout",
          "text": [
            "\n",
            "\n",
            "\u001b[1m> Entering new  chain...\u001b[0m\n",
            "\u001b[32;1m\u001b[1;3mAction: list_tables_sql_db\n",
            "Action Input: \"\"\u001b[0m\n",
            "Observation: \u001b[38;5;200m\u001b[1;3mROR, ChurnData\u001b[0m\n",
            "Thought:\u001b[32;1m\u001b[1;3m I should query the schema of the ROR table to see what columns I can use.\n",
            "Action: schema_sql_db\n",
            "Action Input: \"ROR\"\u001b[0m\n",
            "Observation: \u001b[33;1m\u001b[1;3m\n",
            "CREATE TABLE `ROR` (\n",
            "\t`id` STRING, \n",
            "\t`name` STRING, \n",
            "\t`types` STRING, \n",
            "\t`status` STRING, \n",
            "\t`links` STRING, \n",
            "\t`wikipedia_url` STRING, \n",
            "\t`established` STRING, \n",
            "\t`lat` STRING, \n",
            "\t`long` STRING, \n",
            "\t`City` STRING, \n",
            "\t`CityID` STRING, \n",
            "\t`Country_Code` STRING, \n",
            "\t`Country_Name` STRING\n",
            ")\n",
            "\n",
            "/*\n",
            "3 rows from ROR table:\n",
            "id\tname\ttypes\tstatus\tlinks\twikipedia_url\testablished\tlat\tlong\tCity\tCityID\tCountry_Code\tCountry_Name\n",
            "id\tname\ttypes\tstatus\tlinks\twikipedia_url\testablished\tlat\tlong\tCity\tCityID\tCountry Code\tCountry Name\n",
            "https://ror.org/019wvm592\tAustralian National University\tEducation\tactive\thttp://www.anu.edu.au/\thttp://en.wikipedia.org/wiki/Australian_National_University\t1946\t-35.2778\t149.1205\tCanberra\t2172517\tAU\tAustralia\n",
            "https://ror.org/02bfwt286\tMonash University\tEducation\tactive\thttp://www.monash.edu/\thttp://en.wikipedia.org/wiki/Monash_University\t1958\t-37.9083\t145.138\tMelbourne\t2158177\tAU\tAustralia\n",
            "*/\u001b[0m\n",
            "Thought:\u001b[32;1m\u001b[1;3m I should query the ROR table for institutions in Australia which are not active and established after 2010.\n",
            "Action: query_sql_db\n",
            "Action Input: SELECT name FROM ROR WHERE Country_Code = 'AU' AND status != 'active' AND established > '2010' LIMIT 1000\u001b[0m\n",
            "Observation: \u001b[36;1m\u001b[1;3m[('Department of Agriculture, Water and the Environment',), ('Department of Industry, Science, Energy and Resources',)]\u001b[0m\n",
            "Thought:\u001b[32;1m\u001b[1;3m I now know the final answer\n",
            "Final Answer: There are 2 institutions in Australia which are not active and established after 2010: Department of Agriculture, Water and the Environment and Department of Industry, Science, Energy and Resources.\u001b[0m\n",
            "\n",
            "\u001b[1m> Finished chain.\u001b[0m\n"
          ]
        },
        {
          "output_type": "execute_result",
          "data": {
            "text/plain": [
              "'There are 2 institutions in Australia which are not active and established after 2010: Department of Agriculture, Water and the Environment and Department of Industry, Science, Energy and Resources.'"
            ],
            "application/vnd.google.colaboratory.intrinsic+json": {
              "type": "string"
            }
          },
          "metadata": {},
          "execution_count": 38
        }
      ]
    },
    {
      "cell_type": "code",
      "source": [
        "agent_executor.run(\"How many institutions are there in each country and please create a barchart in python\"\n",
        ");"
      ],
      "metadata": {
        "colab": {
          "base_uri": "https://localhost:8080/"
        },
        "id": "oF0vl2yyvxDk",
        "outputId": "fb6660cb-5a73-4ed9-8ac4-f1cfcc7c6b2e"
      },
      "execution_count": 40,
      "outputs": [
        {
          "output_type": "stream",
          "name": "stdout",
          "text": [
            "\n",
            "\n",
            "\u001b[1m> Entering new  chain...\u001b[0m\n",
            "\u001b[32;1m\u001b[1;3mAction: list_tables_sql_db\n",
            "Action Input: \"\"\u001b[0m\n",
            "Observation: \u001b[38;5;200m\u001b[1;3mROR, ChurnData\u001b[0m\n",
            "Thought:\u001b[32;1m\u001b[1;3m I should query the schema of the ROR table to see what columns I can use.\n",
            "Action: schema_sql_db\n",
            "Action Input: \"ROR\"\u001b[0m\n",
            "Observation: \u001b[33;1m\u001b[1;3m\n",
            "CREATE TABLE `ROR` (\n",
            "\t`id` STRING, \n",
            "\t`name` STRING, \n",
            "\t`types` STRING, \n",
            "\t`status` STRING, \n",
            "\t`links` STRING, \n",
            "\t`wikipedia_url` STRING, \n",
            "\t`established` STRING, \n",
            "\t`lat` STRING, \n",
            "\t`long` STRING, \n",
            "\t`City` STRING, \n",
            "\t`CityID` STRING, \n",
            "\t`Country_Code` STRING, \n",
            "\t`Country_Name` STRING\n",
            ")\n",
            "\n",
            "/*\n",
            "3 rows from ROR table:\n",
            "id\tname\ttypes\tstatus\tlinks\twikipedia_url\testablished\tlat\tlong\tCity\tCityID\tCountry_Code\tCountry_Name\n",
            "id\tname\ttypes\tstatus\tlinks\twikipedia_url\testablished\tlat\tlong\tCity\tCityID\tCountry Code\tCountry Name\n",
            "https://ror.org/019wvm592\tAustralian National University\tEducation\tactive\thttp://www.anu.edu.au/\thttp://en.wikipedia.org/wiki/Australian_National_University\t1946\t-35.2778\t149.1205\tCanberra\t2172517\tAU\tAustralia\n",
            "https://ror.org/02bfwt286\tMonash University\tEducation\tactive\thttp://www.monash.edu/\thttp://en.wikipedia.org/wiki/Monash_University\t1958\t-37.9083\t145.138\tMelbourne\t2158177\tAU\tAustralia\n",
            "*/\u001b[0m\n",
            "Thought:\u001b[32;1m\u001b[1;3m I should query the ROR table to get the number of institutions in each country.\n",
            "Action: query_sql_db\n",
            "Action Input: SELECT Country_Name, COUNT(*) AS num_institutions FROM ROR GROUP BY Country_Name ORDER BY num_institutions DESC LIMIT 1000\u001b[0m\n",
            "Observation: \u001b[36;1m\u001b[1;3m[('United States', 31380), ('United Kingdom', 7511), ('Germany', 5179), ('China', 4845), ('France', 4023), ('Japan', 3989), ('Canada', 3399), ('India', 3068), ('Czechia', 2797), ('Russia', 2161), ('Italy', 2086), ('Norway', 1929), ('Spain', 1828), ('Brazil', 1756), ('Netherlands', 1662), ('South Korea', 1641), ('Switzerland', 1584), ('Sweden', 1500), ('Australia', 1443), ('Poland', 1228), ('Belgium', 933), ('Austria', 727), ('Ireland', 652), ('Indonesia', 638), ('Mexico', 619), ('Denmark', 615), ('Portugal', 544), ('Greece', 508), ('Finland', 507), ('Turkey', 482), ('South Africa', 482), ('Ukraine', 481), ('Taiwan', 477), ('Slovakia', 456), ('Hungary', 416), ('Iran', 411), ('Israel', 395), ('Slovenia', 392), ('Argentina', 353), ('Colombia', 344), ('Pakistan', 322), ('Nigeria', 304), ('Philippines', 303), ('Thailand', 286), ('Romania', 285), ('New Zealand', 277), ('Kenya', 261), ('Singapore', 243), ('Vietnam', 242), ('Bulgaria', 237), ('Egypt', 231), ('Chile', 223), ('Uganda', 218), ('Malaysia', 199), ('Morocco', 188), ('Bangladesh', 186), ('Peru', 184), ('Croatia', 141), ('Tanzania', 138), ('Ghana', 135), ('Tunisia', 133), ('Saudi Arabia', 129), ('Kazakhstan', 128), ('Estonia', 124), ('Lithuania', 123), ('Nepal', 119), ('Belarus', 119), ('Qatar', 118), ('Ethiopia', 117), ('Algeria', 116), ('Serbia', 115), ('United Arab Emirates', 108), ('Sri Lanka', 108), ('Cyprus', 105), ('Latvia', 100), ('Ecuador', 97), ('Myanmar', 93), ('Georgia', 88), ('Luxembourg', 83), ('Uzbekistan', 79), ('Venezuela', 78), ('Costa Rica', 78), ('Iraq', 76), ('Senegal', 75), ('Cameroon', 74), ('Bolivia', 73), ('Lebanon', 71), ('Zimbabwe', 69), ('Azerbaijan', 68), ('Cuba', 67), ('Panama', 63), ('Armenia', 63), ('Democratic Republic of the Congo', 62), ('Jordan', 62), ('Cambodia', 60), ('Zambia', 59), ('Sudan', 57), ('Iceland', 56), ('Uruguay', 50), ('Nicaragua', 50), ('Mozambique', 47), ('Bosnia and Herzegovina', 47), ('Dominican Republic', 45), ('Albania', 43), ('Ivory Coast', 43), ('Moldova', 42), ('Malawi', 42), ('Kyrgyzstan', 41), ('North Macedonia', 40), ('Afghanistan', 40), ('Paraguay', 39), ('Somalia', 39), ('Burkina Faso', 38), ('Rwanda', 37), ('Syria', 37), ('Malta', 36), ('Mongolia', 36), ('El Salvador', 35), ('Botswana', 34), ('Oman', 33), ('Kuwait', 32), ('Guatemala', 31), ('Benin', 31), ('Madagascar', 29), ('Palestinian Territory', 28), ('Tajikistan', 26), ('Yemen', 25), ('Mali', 24), ('Hong Kong', 22), ('Libya', 22), ('Turkmenistan', 22), ('Angola', 22), ('Haiti', 22), ('Mauritius', 21), ('Namibia', 20), ('Kosovo', 20), ('Bahrain', 19), ('Niger', 19), ('Montenegro', 18), ('Honduras', 17), ('Guinea', 16), ('Laos', 16), ('Jamaica', 16), ('Burundi', 15), ('Papua New Guinea', 15), ('Liechtenstein', 15), ('Trinidad and Tobago', 14), ('Puerto Rico', 14), ('Liberia', 14), ('Bahamas', 13), ('Gambia', 13), ('Togo', 13), ('Cabo Verde', 12), ('North Korea', 12), ('Fiji', 12), ('Maldives', 11), ('Gabon', 11), ('Sierra Leone', 10), ('Chad', 10), ('Republic of the Congo', 10), ('South Sudan', 10), ('Barbados', 10), ('Bhutan', 9), ('Brunei', 9), ('Bermuda', 8), ('Saint Lucia', 8), ('Mauritania', 8), ('Greenland', 8), ('Guinea-Bissau', 8), ('Palestine', 7), ('Eswatini', 7), ('Guyana', 7), ('Monaco', 7), ('New Caledonia', 6), ('Curacao', 6), ('Suriname', 6), ('Faroe Islands', 6), ('French Polynesia', 6), ('Cayman Islands', 6), ('Lesotho', 5), ('Réunion', 5), ('French Guiana', 5), ('DR Congo', 5), ('Belize', 5), ('Grenada', 4), ('Isle of Man', 4), ('Guadeloupe', 4), ('Saint Kitts and Nevis', 4), ('San Marino', 4), ('Samoa', 4), ('Seychelles', 4), ('Gibraltar', 4), ('Dominica', 4), ('Macao', 4), ('Tonga', 3), ('Vatican', 3), ('Antigua and Barbuda', 3), ('Jersey', 3), ('Micronesia', 3), ('Svalbard and Jan Mayen', 3), ('Equatorial Guinea', 3), ('Saint Vincent and the Grenadines', 3), ('Palau', 3), ('Sao Tome and Principe', 2), ('Antarctica', 2), ('Solomon Islands', 2), ('Montserrat', 2), ('Reunion', 2), ('Central African Republic', 2), ('Aland Islands', 2), ('Djibouti', 2), ('Turks and Caicos Islands', 2), ('Sint Maarten', 2), ('Andorra', 1), ('Western Sahara', 1), ('Eritrea', 1), ('Timor Leste', 1), ('Tuvalu', 1), ('Niue', 1), ('British Virgin Islands', 1), ('Aruba', 1), ('Vanuatu', 1), ('Kiribati', 1), ('Cook Islands', 1), ('Country Name', 1), ('Falkland Islands', 1), ('Bonaire, Sint Eustatius, and Saba', 1), ('Martinique', 1), ('St Kitts and Nevis', 1), ('Timor-Leste', 1), ('Guam', 1)]\u001b[0m\n",
            "Thought:\u001b[32;1m\u001b[1;3m I now know the final answer\n",
            "Final Answer: There are a total of 31380 institutions in the United States, 7511 in the United Kingdom, 5179 in Germany, 4845 in China, 4023 in France, 3989 in Japan, 3399 in Canada, 3068 in India, 2797 in Czechia, 2161 in Russia, 2086 in Italy, 1929 in Norway, 1828 in Spain, 1756 in Brazil, 1662 in the Netherlands, 1641 in South Korea, 1584 in Switzerland, 1500 in Sweden, 1443 in Australia, 1228 in Poland, 933 in Belgium, 727 in Austria, 652 in Ireland, 638 in Indonesia, 619 in Mexico, 615 in Denmark, 544 in Portugal, 508 in Greece, 507 in Finland, 482 in Turkey, 482 in South Africa, 481 in Ukraine, 477 in Taiwan, 456 in Slovakia, 416 in Hungary, 411 in Iran, 395 in Israel, 392 in Slovenia, 353 in Argentina, 344 in Colombia, 322 in Pakistan, 304 in Nigeria, 303 in the Philippines, 286 in Thailand, 285 in Romania, 277 in New Zealand, 261 in Kenya, 243 in Singapore, 242 in Vietnam, 237 in\u001b[0m\n",
            "\n",
            "\u001b[1m> Finished chain.\u001b[0m\n"
          ]
        }
      ]
    }
  ]
}
